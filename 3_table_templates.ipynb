{
 "metadata": {
  "kernelspec": {
   "display_name": "Streamlit Notebook",
   "name": "streamlit"
  }
 },
 "nbformat_minor": 5,
 "nbformat": 4,
 "cells": [
  {
   "cell_type": "code",
   "execution_count": null,
   "id": "3775908f-ca36-4846-8f38-5adca39217f2",
   "metadata": {
    "codeCollapsed": false,
    "collapsed": false,
    "language": "python",
    "name": "py__imports"
   },
   "outputs": [],
   "source": "# Import python packages\nimport streamlit as st\nimport json\n\n# Import Snowpark packages\nfrom snowflake.snowpark.context import get_active_session\nsnowflake_session = get_active_session()"
  },
  {
   "cell_type": "code",
   "execution_count": null,
   "id": "46e10807-c07e-4e97-8eb1-64ac59409bb3",
   "metadata": {
    "codeCollapsed": true,
    "collapsed": true,
    "language": "sql",
    "name": "sql__prepare_demo"
   },
   "outputs": [],
   "source": [
    "use schema \"DEMO\";"
   ]
  },
  {
   "cell_type": "markdown",
   "id": "ba0c1675-b04e-40d5-852b-fe3cee7e61fc",
   "metadata": {
    "collapsed": false,
    "name": "docs__table_templates"
   },
   "source": [
    "# Table templates\n",
    "\n",
    "The output of the table function used to infer metadata from a file can be leveraged to create dictionaries that contain all the metadata for a given file.\n",
    "\n",
    "```sql\n",
    "select array_agg(object_construct(*))\n",
    "table(\n",
    "  infer_schema(\n",
    "      location => '<location of file(s), including stage>'\n",
    "    , file_format => '<Snowflake File Format object to use when reading the file>'\n",
    "  )\n",
    ")\n",
    "```\n"
   ]
  },
  {
   "cell_type": "markdown",
   "id": "c9cee1a0-3f10-4297-8a54-e4b4c64f15ca",
   "metadata": {
    "collapsed": false,
    "name": "docs__table_templates__csv"
   },
   "source": [
    "## Table templates - CSV\n",
    "\n",
    "Let's quickly see the table template from our example CSV file:"
   ]
  },
  {
   "cell_type": "code",
   "execution_count": null,
   "id": "4594e300-f17b-4682-9f9b-24376631b128",
   "metadata": {
    "language": "sql",
    "name": "sql__table_templates__csv"
   },
   "outputs": [],
   "source": [
    "select array_agg(object_construct(*))\n",
    "from table(\n",
    "  infer_schema(\n",
    "      location => '@\"STG__DATA\"/csv'\n",
    "    , file_format => '\"FF_CSV\"'\n",
    "  )\n",
    ")"
   ]
  },
  {
   "cell_type": "markdown",
   "id": "7ebcc49c-9fca-4fe7-9ed0-4e2cecd43f5b",
   "metadata": {
    "collapsed": false,
    "name": "docs__table_templates__json"
   },
   "source": [
    "## Table templates - JSON\n",
    "\n",
    "And now let's see the table template from our example JSON file:"
   ]
  },
  {
   "cell_type": "code",
   "execution_count": null,
   "id": "4bfb1c70-6750-4753-b769-6567d3520559",
   "metadata": {
    "language": "sql",
    "name": "sql__table_templates__json"
   },
   "outputs": [],
   "source": [
    "select array_agg(object_construct(*))\n",
    "from table(\n",
    "  infer_schema(\n",
    "      location => '@\"STG__DATA\"/json'\n",
    "    , file_format => '\"FF_JSON\"'\n",
    "  )\n",
    ")"
   ]
  },
  {
   "cell_type": "markdown",
   "id": "757686c4-af53-4278-86eb-51973d815451",
   "metadata": {
    "collapsed": false,
    "name": "docs__table_templates__parquet"
   },
   "source": [
    "## Table templates - Parquet\n",
    "\n",
    "Finally, let's see the table template from our example Parquet file:"
   ]
  },
  {
   "cell_type": "code",
   "execution_count": null,
   "id": "bd9187b0-d4da-4dd5-be03-1b901222edca",
   "metadata": {
    "collapsed": false,
    "language": "sql",
    "name": "sql__table_templates__parquet"
   },
   "outputs": [],
   "source": [
    "select array_agg(object_construct(*))\n",
    "from table(\n",
    "  infer_schema(\n",
    "      location => '@\"STG__DATA\"/parquet'\n",
    "    , file_format => '\"FF_PARQUET\"'\n",
    "  )\n",
    ")"
   ]
  },
  {
   "cell_type": "code",
   "execution_count": null,
   "id": "aa2fd253-c2b2-4e24-a392-2a52f3b5658d",
   "metadata": {
    "codeCollapsed": true,
    "collapsed": false,
    "language": "python",
    "name": "py__table_templates__comparison"
   },
   "outputs": [],
   "source": [
    "st.header(\"Table templates - Summary\")\n",
    "\n",
    "st.markdown(\"Again, we have three very similar queries that output similar results:\")\n",
    "\n",
    "tt_col_csv, tt_col_json, tt_col_parquet = st.columns(3, gap=\"large\")\n",
    "with tt_col_csv:\n",
    "  st.subheader(\"CSV\")\n",
    "  st.code(sql__table_templates__csv.__getattribute__(\"query_executed\"), \"sql\")\n",
    "  st.code(\n",
    "      json.dumps(\n",
    "          json.loads(\n",
    "            sql__table_templates__csv.__getattribute__(\"results\").to_dict(\"records\")[0][\"ARRAY_AGG(OBJECT_CONSTRUCT(*))\"]\n",
    "          )\n",
    "        , indent = 2\n",
    "      )\n",
    "    , \"json\"\n",
    "  )\n",
    "with tt_col_json:\n",
    "  st.subheader(\"JSON\")\n",
    "  st.code(sql__table_templates__json.__getattribute__(\"query_executed\"), \"sql\")\n",
    "  st.code(\n",
    "      json.dumps(\n",
    "          json.loads(\n",
    "            sql__table_templates__json.__getattribute__(\"results\").to_dict(\"records\")[0][\"ARRAY_AGG(OBJECT_CONSTRUCT(*))\"]\n",
    "          )\n",
    "        , indent = 2\n",
    "      )\n",
    "    , \"json\"\n",
    "  )\n",
    "with tt_col_parquet:\n",
    "  st.subheader(\"Parquet\")\n",
    "  st.code(sql__table_templates__parquet.__getattribute__(\"query_executed\"), \"sql\")\n",
    "  st.code(\n",
    "      json.dumps(\n",
    "          json.loads(\n",
    "            sql__table_templates__parquet.__getattribute__(\"results\").to_dict(\"records\")[0][\"ARRAY_AGG(OBJECT_CONSTRUCT(*))\"]\n",
    "          )\n",
    "        , indent = 2\n",
    "      )\n",
    "    , \"json\"\n",
    "  )"
   ]
  }
 ]
}