{
 "cells": [
  {
   "cell_type": "code",
   "execution_count": null,
   "id": "3775908f-ca36-4846-8f38-5adca39217f2",
   "metadata": {
    "codeCollapsed": false,
    "collapsed": false,
    "language": "python",
    "name": "py__imports"
   },
   "outputs": [],
   "source": [
    "# Import python packages\n",
    "import streamlit as st\n",
    "\n",
    "# Import Snowpark packages\n",
    "from snowflake.snowpark.context import get_active_session\n",
    "snowflake_session = get_active_session()"
   ]
  },
  {
   "cell_type": "code",
   "execution_count": null,
   "id": "46e10807-c07e-4e97-8eb1-64ac59409bb3",
   "metadata": {
    "codeCollapsed": true,
    "collapsed": true,
    "language": "sql",
    "name": "sql__prepare_demo"
   },
   "outputs": [],
   "source": [
    "use schema \"DEMO\";"
   ]
  },
  {
   "cell_type": "markdown",
   "id": "6db1a7a9-5e0e-4c8c-87fe-9cf4eebba9d4",
   "metadata": {
    "collapsed": false,
    "name": "docs__inferring_schemas_directly"
   },
   "source": [
    "# Inferring schemas directly\n",
    "\n",
    "These files were all uploaded into an internal stage earlier, so we can dive straight into inferring the schema.\n",
    "\n",
    "Inferring a schema from a file directly is achieved using a table function. This uses a very similar structure regardless of the file format:\n",
    "\n",
    "```sql\n",
    "table(\n",
    "  infer_schema(\n",
    "      location => '<location of file(s), including stage>'\n",
    "    , file_format => '<Snowflake File Format object to use when reading the file>'\n",
    "  )\n",
    ")\n",
    "```\n"
   ]
  },
  {
   "cell_type": "markdown",
   "id": "76753f18-9780-4f77-a004-054a5410fa54",
   "metadata": {
    "collapsed": false,
    "name": "docs__inferring_schemas_directly__csv"
   },
   "source": [
    "## Inferring schemas directly - CSV\n",
    "\n",
    "Let's quickly see the output from this table function using our example CSV file:"
   ]
  },
  {
   "cell_type": "code",
   "execution_count": null,
   "id": "1404bf3b-4c6c-402d-9e27-545de1b049a5",
   "metadata": {
    "language": "sql",
    "name": "sql__inferring_schemas_directly__csv"
   },
   "outputs": [],
   "source": [
    "select *\n",
    "from table(\n",
    "  infer_schema(\n",
    "      location => '@\"STG__DATA\"/csv'\n",
    "    , file_format => '\"FF_CSV\"'\n",
    "  )\n",
    ")"
   ]
  },
  {
   "cell_type": "markdown",
   "id": "b9b6425e-de95-45f3-9d82-747677b6813f",
   "metadata": {
    "collapsed": false,
    "name": "docs__inferring_schemas_directly__json"
   },
   "source": [
    "## Inferring schemas directly - JSON\n",
    "\n",
    "And now let's see the output from this table function using our example JSON file:"
   ]
  },
  {
   "cell_type": "code",
   "execution_count": null,
   "id": "5fefdf69-b989-4fcc-86ae-9a91ebfb72be",
   "metadata": {
    "codeCollapsed": false,
    "language": "sql",
    "name": "sql__inferring_schemas_directly__json"
   },
   "outputs": [],
   "source": [
    "select *\n",
    "from table(\n",
    "  infer_schema(\n",
    "      location => '@\"STG__DATA\"/json'\n",
    "    , file_format => '\"FF_JSON\"'\n",
    "  )\n",
    ")"
   ]
  },
  {
   "cell_type": "markdown",
   "id": "c38ea1c4-562d-42f3-8aec-a4e57d1c42dc",
   "metadata": {
    "collapsed": false,
    "name": "docs__inferring_schemas_directly__parquet"
   },
   "source": [
    "## Inferring schemas directly - Parquet\n",
    "\n",
    "Finally, let's see the output from this table function using our example Parquet file:"
   ]
  },
  {
   "cell_type": "code",
   "execution_count": null,
   "id": "be8cb034-0e8e-4864-877c-d895917b1390",
   "metadata": {
    "codeCollapsed": false,
    "language": "sql",
    "name": "sql__inferring_schemas_directly__parquet"
   },
   "outputs": [],
   "source": [
    "select *\n",
    "from table(\n",
    "  infer_schema(\n",
    "      location => '@\"STG__DATA\"/parquet'\n",
    "    , file_format => '\"FF_PARQUET\"'\n",
    "  )\n",
    ")"
   ]
  },
  {
   "cell_type": "code",
   "execution_count": null,
   "id": "82523889-0e0e-42b2-be23-a6bad93b5464",
   "metadata": {
    "codeCollapsed": true,
    "collapsed": false,
    "language": "python",
    "name": "py__inferring_schemas_directly__comparison"
   },
   "outputs": [],
   "source": [
    "st.header(\"Inferring schemas directly - Summary\")\n",
    "\n",
    "st.markdown(\"So we have three very similar queries that output similar results, however there are some important differences:\")\n",
    "\n",
    "isd_col_csv, isd_col_json, isd_col_parquet = st.columns(3, gap=\"large\")\n",
    "with isd_col_csv:\n",
    "  st.subheader(\"CSV\")\n",
    "  st.code(sql__inferring_schemas_directly__csv.__getattribute__(\"query_executed\"), \"sql\")\n",
    "  st.markdown(\"\"\"\n",
    "    Metadata inferred from CSV data is the least reliable\n",
    "      - Number accuracy is estimated\n",
    "      - Strings may incorrectly be inferred as other types\n",
    "  \"\"\")\n",
    "with isd_col_json:\n",
    "  st.subheader(\"JSON\")\n",
    "  st.code(sql__inferring_schemas_directly__json.__getattribute__(\"query_executed\"), \"sql\")\n",
    "  st.markdown(\"\"\"\n",
    "    Metadata inferred from JSON data is still not optimal\n",
    "      - Number accuracy is estimated\n",
    "  \"\"\")\n",
    "with isd_col_parquet:\n",
    "  st.subheader(\"Parquet\")\n",
    "  st.code(sql__inferring_schemas_directly__parquet.__getattribute__(\"query_executed\"), \"sql\")\n",
    "  st.markdown(\"\"\"\n",
    "    Metadata inferred from Parquet files is exact\n",
    "      - Metadata is stored within the file format\n",
    "  \"\"\")\n"
   ]
  }
 ],
 "metadata": {
  "kernelspec": {
   "display_name": "Streamlit Notebook",
   "name": "streamlit"
  }
 },
 "nbformat": 4,
 "nbformat_minor": 5
}
