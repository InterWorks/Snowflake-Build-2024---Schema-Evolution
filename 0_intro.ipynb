{
 "cells": [
  {
   "cell_type": "code",
   "execution_count": null,
   "id": "3775908f-ca36-4846-8f38-5adca39217f2",
   "metadata": {
    "codeCollapsed": false,
    "collapsed": false,
    "language": "python",
    "name": "py__imports"
   },
   "outputs": [],
   "source": [
    "# Import python packages\n",
    "import streamlit as st\n",
    "from bespoke_utils import print_qr_codes"
   ]
  },
  {
   "cell_type": "code",
   "execution_count": null,
   "id": "44759915-c5fa-44ec-9cb8-2b07acd753d3",
   "metadata": {
    "codeCollapsed": true,
    "collapsed": false,
    "language": "python",
    "name": "py__intro"
   },
   "outputs": [],
   "source": [
    "st.markdown(\"\"\"\n",
    "  # Schema Evolution for Automated Metadata-Driven Ingestion\n",
    "\n",
    "  In this session, learn about multiple features in Snowflake for automated data ingestion, using data from multiple file formats. We will:\n",
    "  \n",
    "    1. Leverage Snowflake's schema inference functionality to parse the metadata from the various different file formats\n",
    "    2. Demonstrate several ways that this metadata can be used\n",
    "    3. Ingest the data into new tables using Snowflake’s column-matching ingestion functionality\n",
    "\n",
    "  The icing on the cake will then be a **demonstration of Snowflake’s automated schema evolution functionality**, which supports changing workloads as new fields are added to landing tables automatically.\n",
    "  \n",
    "  Within all of this, we will also demonstrate how to parse and store a variety of other pieces of metadata during ingestion using metadata columns.\n",
    "\"\"\")\n",
    "\n",
    "print_qr_codes()"
   ]
  }
 ],
 "metadata": {
  "kernelspec": {
   "display_name": "Streamlit Notebook",
   "name": "streamlit"
  }
 },
 "nbformat": 4,
 "nbformat_minor": 5
}
