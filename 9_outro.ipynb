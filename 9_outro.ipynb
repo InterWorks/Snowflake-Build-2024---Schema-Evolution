{
 "metadata": {
  "kernelspec": {
   "display_name": "Streamlit Notebook",
   "name": "streamlit"
  }
 },
 "nbformat_minor": 5,
 "nbformat": 4,
 "cells": [
  {
   "cell_type": "code",
   "execution_count": null,
   "id": "3775908f-ca36-4846-8f38-5adca39217f2",
   "metadata": {
    "codeCollapsed": false,
    "collapsed": false,
    "language": "python",
    "name": "py__imports"
   },
   "outputs": [],
   "source": "# Import python packages\nimport streamlit as st\nfrom bespoke_utils import print_qr_codes, print_code_templates"
  },
  {
   "cell_type": "code",
   "execution_count": null,
   "id": "44759915-c5fa-44ec-9cb8-2b07acd753d3",
   "metadata": {
    "codeCollapsed": false,
    "collapsed": false,
    "language": "python",
    "name": "py__outro__session"
   },
   "outputs": [],
   "source": "st.markdown(\"\"\"\n  # Schema Evolution for Automated Metadata-Driven Ingestion\n\n  ## Code Templates\n\"\"\")\n\nprint_code_templates()\n\nst.markdown(\"\"\"\n  ## Chris Hastie - Data Practice Lead at InterWorks\n\"\"\")\n\nst.image(\"images/LinkedIn-banner-2024.png\")\n\nst.markdown(\"\"\"\n  ## Further Resources\n\"\"\")\n\nprint_qr_codes()"
  }
 ]
}