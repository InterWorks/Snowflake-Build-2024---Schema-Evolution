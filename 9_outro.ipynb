{
 "cells": [
  {
   "cell_type": "code",
   "execution_count": null,
   "id": "3775908f-ca36-4846-8f38-5adca39217f2",
   "metadata": {
    "codeCollapsed": true,
    "collapsed": false,
    "language": "python",
    "name": "py__imports"
   },
   "outputs": [],
   "source": [
    "# Import python packages\n",
    "import streamlit as st\n",
    "from bespoke_utils import print_qr_codes"
   ]
  },
  {
   "cell_type": "code",
   "execution_count": null,
   "id": "44759915-c5fa-44ec-9cb8-2b07acd753d3",
   "metadata": {
    "codeCollapsed": true,
    "collapsed": false,
    "language": "python",
    "name": "py__intro__session"
   },
   "outputs": [],
   "source": [
    "st.markdown(\"\"\"\n",
    "  # Schema Evolution for Automated Metadata-Driven Ingestion\n",
    "\n",
    "  In this session, learned about multiple features in Snowflake for automated data ingestion, using data from multiple file formats. We will:\n",
    "  \n",
    "    1. Leverage Snowflake's schema inference functionality to parse the metadata from the various different file formats\n",
    "    2. Demonstrate several ways that this metadata can be used\n",
    "    3. Ingest the data into new tables using Snowflake’s column-matching ingestion functionality\n",
    "\n",
    "  The icing on the cake will then be a **demonstration of Snowflake’s automated schema evolution functionality**, which supports changing workloads as new fields are added to landing tables automatically.\n",
    "  \n",
    "  Within all of this, we will also demonstrate how to parse and store a variety of other pieces of metadata during ingestion using metadata columns.\n",
    "\"\"\")\n",
    "\n",
    "print_qr_codes()"
   ]
  },
  {
   "cell_type": "code",
   "execution_count": null,
   "id": "b3687337-aaa4-43ad-9c37-0ecfeff313a0",
   "metadata": {
    "collapsed": false,
    "language": "python",
    "name": "py__intro_self"
   },
   "outputs": [],
   "source": [
    "\n",
    "st.markdown(\"\"\"\n",
    "  # Who am I?\n",
    "  \n",
    "  Chris Hastie - Data Practice Lead at InterWorks\n",
    "\"\"\")\n",
    "\n",
    "st.image(\"images/LinkedIn-banner-2024.png\")\n",
    "\n",
    "col_1, col_2 = st.columns(2)\n",
    "with col_1:\n",
    "  st.markdown(\"\"\"\n",
    "    ## Quick InterWorks history\n",
    "    - People-focused tech consultancy\n",
    "    - Helping customers with data and analytics for over 15 years\n",
    "    - Several partner awards for Snowflake\n",
    "    - Many partner awards across wider tech stack\n",
    "  \"\"\")\n",
    "\n",
    "with col_2:\n",
    "  st.markdown(\"\"\"\n",
    "    ## Quick personal history\n",
    "    - Working in data since 2014\n",
    "    - Working with Snowflake since 2018\n",
    "    - Snowflake Superhero since 2019\n",
    "    - Snowflake SnowPro Subject Matter Expert since 2020\n",
    "  \"\"\")\n"
   ]
  }
 ],
 "metadata": {
  "kernelspec": {
   "display_name": "Streamlit Notebook",
   "name": "streamlit"
  }
 },
 "nbformat": 4,
 "nbformat_minor": 5
}
