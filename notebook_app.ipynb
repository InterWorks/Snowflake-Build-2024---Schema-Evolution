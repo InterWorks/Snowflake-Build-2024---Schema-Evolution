{
 "metadata": {
  "kernelspec": {
   "display_name": "Streamlit Notebook",
   "name": "streamlit"
  }
 },
 "nbformat_minor": 5,
 "nbformat": 4,
 "cells": [
  {
   "cell_type": "markdown",
   "id": "cefaf5cb-09d3-4758-b534-61e976110f19",
   "metadata": {
    "name": "docs__intro",
    "collapsed": false
   },
   "source": "\n# Schema Evolution for Automated Metadata-Driven Ingestion\n\nCode for Chris Hastie's session for Snowflake BUILD 2024 on how to leverage schema evolution for automated metadata-driven ingestion.\n\n## Sharing this repository\n\nTo quickly share this repository, use this QR code:\n\n![QR for repo](images/QR-repo.png)\n\nAlternatively, share this link:\n\n[https://github.com/InterWorks/Snowflake-Build-2024---Schema-Evolution](https://github.com/InterWorks/Snowflake-Build-2024---Schema-Evolution)\n\n## More information on the author\n\nFor more information on the author, Chris Hastie, visit his profile at InterWorks and/or LinkedIn.\n\n### InterWorks Profile\n\n[https://interworks.com/people/chris-hastie](https://interworks.com/people/chris-hastie)\n\n![QR for InterWorks Profile](images/QR-IW-profile.png)\n\n### LinkedIn Profile\n\n[https://www.linkedin.com/in/chris-hastie/](https://www.linkedin.com/in/chris-hastie/)\n\n![QR for LinkedIn](images/QR-LinkedIn.png)\n"
  },
  {
   "cell_type": "code",
   "id": "3775908f-ca36-4846-8f38-5adca39217f2",
   "metadata": {
    "language": "python",
    "name": "cell1"
   },
   "source": "# Import python packages\nimport streamlit as st\nimport pandas as pd\n\n# We can also use Snowpark for our analyses!\nfrom snowflake.snowpark.context import get_active_session\nsession = get_active_session()\n",
   "execution_count": null,
   "outputs": []
  },
  {
   "cell_type": "code",
   "id": "8d50cbf4-0c8d-4950-86cb-114990437ac9",
   "metadata": {
    "language": "sql",
    "name": "cell2"
   },
   "source": "-- Welcome to Snowflake Notebooks!\n-- Try out a SQL cell to generate some data.\nSELECT 'FRIDAY' as SNOWDAY, 0.2 as CHANCE_OF_SNOW\nUNION ALL\nSELECT 'SATURDAY',0.5\nUNION ALL \nSELECT 'SUNDAY', 0.9;",
   "execution_count": null,
   "outputs": []
  },
  {
   "cell_type": "code",
   "id": "c695373e-ac74-4b62-a1f1-08206cbd5c81",
   "metadata": {
    "language": "python",
    "name": "cell3"
   },
   "source": "# Then, we can use the python name to turn cell2 into a Pandas dataframe\nmy_df = cell2.to_pandas()\n\n# Chart the data\nst.subheader(\"Chance of SNOW ❄️\")\nst.line_chart(my_df, x='SNOWDAY', y='CHANCE_OF_SNOW')\n\n# Give it a go!\nst.subheader(\"Try it out yourself and show off your skills 🥇\")",
   "execution_count": null,
   "outputs": []
  }
 ]
}