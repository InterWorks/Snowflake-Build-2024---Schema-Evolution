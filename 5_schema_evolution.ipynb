{
 "metadata": {
  "kernelspec": {
   "display_name": "Streamlit Notebook",
   "name": "streamlit"
  }
 },
 "nbformat_minor": 5,
 "nbformat": 4,
 "cells": [
  {
   "cell_type": "code",
   "execution_count": null,
   "id": "3775908f-ca36-4846-8f38-5adca39217f2",
   "metadata": {
    "codeCollapsed": false,
    "collapsed": false,
    "language": "python",
    "name": "py__imports"
   },
   "outputs": [],
   "source": "# Import python packages\nimport streamlit as st\nimport json\n\n# Import Snowpark packages\nfrom snowflake.snowpark.context import get_active_session\nsnowflake_session = get_active_session()\nfrom snowflake.snowpark.functions import col, lit, when as sf_when, endswith as sf_endswith, count_distinct as sf_count_distinct\nfrom snowflake.snowpark import Window as sf_window"
  },
  {
   "cell_type": "code",
   "execution_count": null,
   "id": "46e10807-c07e-4e97-8eb1-64ac59409bb3",
   "metadata": {
    "codeCollapsed": true,
    "collapsed": true,
    "language": "sql",
    "name": "sql__prepare_demo"
   },
   "outputs": [],
   "source": [
    "use schema \"DEMO\";"
   ]
  },
  {
   "cell_type": "markdown",
   "id": "19e03eb4-491b-4bdb-a5d3-6056348b24e6",
   "metadata": {
    "name": "docs__schema_evolution",
    "collapsed": false
   },
   "source": "# Schema Evolution\n\nSo far, we have established the following building blocks:\n\n- Infer metadata from a file\n- Leverage the metadata to create a new table\n- Ingest data into the new table, matching by column name\n\nNow for the main event in this session. Our next demonstration achieves the following:\n\n1. Create a new table that only contains some generic metadata fields for data lineage and monitoring\n2. Ingest our example CSV file into this new table, _automatically_ adding all the data fields\n3. Ingest our example JSON file into this new table, _automatically_ adding the additional fields\n4. Ingest our example Parquet file into this new table, _automatically_ adding the final additional field\n\nFirst, we quickly review which fields are available in our data:"
  },
  {
   "cell_type": "code",
   "id": "f0407bd9-48c9-49f9-ae4d-ead6924ce388",
   "metadata": {
    "language": "sql",
    "name": "sql__review_fields_in_source_data",
    "collapsed": false,
    "codeCollapsed": true
   },
   "outputs": [],
   "source": "with \"CTE__RAW\" as (\n  select\n      \"TABLE_NAME\"\n    , \"COLUMN_NAME\"\n    , True as \"PIVOT_VALUE\"\n    , ((count(distinct \"TABLE_NAME\") over (partition by \"COLUMN_NAME\")) != 3)::int as \"CUSTOM_ORDER_1\"\n    , case \"TABLE_NAME\"\n        when 'DATA_FROM_CSV' then 1\n        when 'DATA_FROM_JSON' then 2\n        when 'DATA_FROM_PARQUET' then 3\n      end as \"CUSTOM_ORDER_2\"\n    , \"ORDINAL_POSITION\" as \"CUSTOM_ORDER_3\"\n    , concat(\n          \"CUSTOM_ORDER_1\"\n        , \"CUSTOM_ORDER_2\"\n        , \"CUSTOM_ORDER_3\"\n      ) as \"CUSTOM_ORDER\"\n  from \"INFORMATION_SCHEMA\".\"COLUMNS\"\n  where \"TABLE_SCHEMA\" = 'DEMO'\n)\nselect\n    \"COLUMN_NAME\"\n  , max(\"'DATA_FROM_CSV'\") as \"DATA_FROM_CSV\"\n  , max(\"'DATA_FROM_JSON'\") as \"DATA_FROM_JSON\"\n  , max(\"'DATA_FROM_PARQUET'\") as \"DATA_FROM_PARQUET\"\nfrom \"CTE__RAW\"\n  pivot(\n    max(\"PIVOT_VALUE\")\n    for \"TABLE_NAME\" in (\n        'DATA_FROM_CSV'\n      , 'DATA_FROM_JSON'\n      , 'DATA_FROM_PARQUET'\n    )\n  )\ngroup by \"COLUMN_NAME\"\norder by\n    min(\"CUSTOM_ORDER\")",
   "execution_count": null
  },
  {
   "cell_type": "markdown",
   "id": "a7da294b-048b-42ab-a500-d2de2754f16b",
   "metadata": {
    "name": "docs__schema_evolution_2",
    "collapsed": false
   },
   "source": ""
  }
 ]
}